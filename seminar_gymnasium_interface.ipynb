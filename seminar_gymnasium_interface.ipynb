{
  "cells": [
    {
      "cell_type": "code",
      "execution_count": 1,
      "metadata": {
        "colab": {
          "base_uri": "https://localhost:8080/"
        },
        "id": "-qIGYu978t_6",
        "outputId": "88f54d6f-02d5-462a-9aab-32ac868c658c"
      },
      "outputs": [],
      "source": [
        "import sys, os\n",
        "if 'google.colab' in sys.modules and not os.path.exists('.setup_complete'):\n",
        "    !wget -q https://raw.githubusercontent.com/yandexdataschool/Practical_RL/master/setup_colab.sh -O- | bash\n",
        "\n",
        "    !touch .setup_complete\n",
        "\n",
        "# This code creates a virtual display to draw game images on.\n",
        "# It will have no effect if your machine has a monitor.\n",
        "if type(os.environ.get(\"DISPLAY\")) is not str or len(os.environ.get(\"DISPLAY\")) == 0:\n",
        "    !bash ../xvfb start\n",
        "    os.environ['DISPLAY'] = ':1'"
      ]
    },
    {
      "cell_type": "code",
      "execution_count": 2,
      "metadata": {
        "id": "fqwf1iP-8t_8"
      },
      "outputs": [],
      "source": [
        "import numpy as np\n",
        "import matplotlib.pyplot as plt\n",
        "%matplotlib inline"
      ]
    },
    {
      "cell_type": "markdown",
      "metadata": {
        "id": "hk1__T8N8t_8"
      },
      "source": [
        "### OpenAI Gym --> Farama Gymnasium\n",
        "\n",
        "We're gonna spend several next weeks learning algorithms that solve decision processes. We are then in need of some interesting decision problems to test our algorithms.\n",
        "\n",
        "That's where Gymnasium comes into play. It's a Python library that wraps many classical decision problems including robot control, videogames and board games.\n",
        "\n",
        "The library Gym by OpenAi has been replaced by Gymnsasium while saving all functionality comparable with the latest version of Gym.\n",
        "\n",
        "Announce: https://farama.org/Announcing-The-Farama-Foundation\n",
        "\n",
        "Github: https://github.com/Farama-Foundation/Gymnasium\n",
        "\n",
        "Documentation: https://gymnasium.farama.org/\n",
        "\n",
        "So here's how it works:"
      ]
    },
    {
      "cell_type": "code",
      "execution_count": 3,
      "metadata": {
        "colab": {
          "base_uri": "https://localhost:8080/"
        },
        "id": "E4i3eJLN-rRz",
        "outputId": "0c1ecb4e-f3cc-4371-a6e9-4a7b2f9b53c4"
      },
      "outputs": [
        {
          "name": "stdout",
          "output_type": "stream",
          "text": [
            "\u001b[31mERROR: Can not perform a '--user' install. User site-packages are not visible in this virtualenv.\u001b[0m\u001b[31m\n",
            "\u001b[0mNote: you may need to restart the kernel to use updated packages.\n"
          ]
        }
      ],
      "source": [
        "%pip install --user gym"
      ]
    },
    {
      "cell_type": "code",
      "execution_count": 4,
      "metadata": {
        "colab": {
          "base_uri": "https://localhost:8080/",
          "height": 431
        },
        "id": "W5Y5oZRY8t_9",
        "outputId": "154b3b50-0d36-4864-b30d-559e97c9bfe5"
      },
      "outputs": [
        {
          "name": "stdout",
          "output_type": "stream",
          "text": [
            "Observation space: Box([-1.2  -0.07], [0.6  0.07], (2,), float32)\n",
            "Action space: Discrete(3)\n"
          ]
        },
        {
          "data": {
            "image/png": "[encoded data removed]",
            "text/plain": [
              "<Figure size 640x480 with 1 Axes>"
            ]
          },
          "metadata": {},
          "output_type": "display_data"
        }
      ],
      "source": [
        "import gymnasium as gym\n",
        "\n",
        "env = gym.make(\"MountainCar-v0\", render_mode=\"rgb_array\")\n",
        "env.reset()\n",
        "\n",
        "plt.imshow(env.render())\n",
        "print(\"Observation space:\", env.observation_space)\n",
        "print(\"Action space:\", env.action_space)\n"
      ]
    },
    {
      "cell_type": "markdown",
      "metadata": {
        "id": "R44Apv878t_9"
      },
      "source": [
        "Note: if you're running this on your local machine, you'll see a window pop up with the image above. Don't close it, just alt-tab away."
      ]
    },
    {
      "cell_type": "markdown",
      "metadata": {
        "id": "PI1yNfkx8t_-"
      },
      "source": [
        "### Gymnasium interface\n",
        "\n",
        "The three main methods of an environment are\n",
        "* `reset()`: reset environment to the initial state, return first observation and dict with auxiliary info\n",
        "* `render()`: show current environment state (a more colorful version :) )\n",
        "* `step(a)`: commit action `a` and return `(new_observation, reward, terminated, truncated, info)`\n",
        " * `new_observation`: an observation right after committing the action `a`\n",
        " * `reward`: a number representing your reward for committing action `a`\n",
        " * `terminated`: True if the MDP has just finished, False if still in progress\n",
        " * `truncated`: True if the number of steps elapsed >= max episode steps\n",
        " * `info`: some auxiliary stuff about what just happened. For now, ignore it.\n",
        "\n",
        "A detailed explanation of the difference between `terminated` and `truncated` and how it should be used:\n",
        "1. https://gymnasium.farama.org/tutorials/gymnasium_basics/handling_time_limits/\n",
        "2. https://gymnasium.farama.org/content/migration-guide/"
      ]
    },
    {
      "cell_type": "code",
      "execution_count": 5,
      "metadata": {
        "colab": {
          "base_uri": "https://localhost:8080/"
        },
        "id": "84mb2Biv8t_-",
        "outputId": "2d2c7ed4-a6df-411c-b818-1e9b42bce646"
      },
      "outputs": [
        {
          "name": "stdout",
          "output_type": "stream",
          "text": [
            "initial observation code: [-0.47260767  0.        ]\n",
            "initial observation code: [-0.49763566  0.        ]\n"
          ]
        }
      ],
      "source": [
        "# Set seed to reproduce initial state in stochastic environment\n",
        "obs0, info = env.reset(seed=0)\n",
        "print(\"initial observation code:\", obs0)\n",
        "\n",
        "obs0, info = env.reset(seed=1)\n",
        "print(\"initial observation code:\", obs0)\n",
        "\n",
        "# Note: in MountainCar, observation is just two numbers: car position and velocity\n"
      ]
    },
    {
      "cell_type": "code",
      "execution_count": 6,
      "metadata": {
        "colab": {
          "base_uri": "https://localhost:8080/"
        },
        "id": "9AlFGUiN8t_-",
        "outputId": "f3e877bd-2b3f-4dc9-eea0-8e8ed1d43baa"
      },
      "outputs": [
        {
          "name": "stdout",
          "output_type": "stream",
          "text": [
            "taking action 2 (right)\n",
            "new observation code: [-0.4968302   0.00080547]\n",
            "reward: -1.0\n",
            "is game over?: False\n",
            "is game truncated due to time limit?: False\n"
          ]
        }
      ],
      "source": [
        "print(\"taking action 2 (right)\")\n",
        "new_obs, reward, terminated, truncated, _ = env.step(2)\n",
        "\n",
        "print(\"new observation code:\", new_obs)\n",
        "print(\"reward:\", reward)\n",
        "print(\"is game over?:\", terminated)\n",
        "print(\"is game truncated due to time limit?:\", truncated)\n",
        "\n",
        "# Note: as you can see, the car has moved to the right slightly (around 0.0005)\n"
      ]
    },
    {
      "cell_type": "markdown",
      "metadata": {
        "id": "mcJ6sovd8t_-"
      },
      "source": [
        "### Play with it\n",
        "\n",
        "Below is the code that drives the car to the right. However, if you simply use the default policy, the car will not reach the flag at the far right due to gravity.\n",
        "\n",
        "__Your task__ is to fix it. Find a strategy that reaches the flag.\n",
        "\n",
        "You are not required to build any sophisticated algorithms for now, and you definitely don't need to know any reinforcement learning for this. Feel free to hard-code :)"
      ]
    },
    {
      "cell_type": "code",
      "execution_count": 7,
      "metadata": {
        "id": "wy7hwWOe8t__"
      },
      "outputs": [],
      "source": [
        "from IPython import display\n",
        "\n",
        "# Create env manually to set time limit. Please don't change this.\n",
        "TIME_LIMIT = 250\n",
        "env = gym.wrappers.TimeLimit(\n",
        "    gym.make(\"MountainCar-v0\", render_mode=\"rgb_array\"),\n",
        "    max_episode_steps=TIME_LIMIT + 1,\n",
        ")\n",
        "actions = {\"left\": 0, \"stop\": 1, \"right\": 2}\n"
      ]
    },
    {
      "cell_type": "code",
      "execution_count": 8,
      "metadata": {
        "id": "SEDPLwY_8t__"
      },
      "outputs": [],
      "source": [
        "def policy(obs, t):\n",
        "    # Write the code for your policy here. You can use the observation\n",
        "    # (a tuple of position and velocity), the current time step, or both,\n",
        "    # if you want.\n",
        "    position, velocity = obs\n",
        "\n",
        "    # This is an example policy. You can try running it, but it will not work.\n",
        "    # Your goal is to fix that. You don't need anything sophisticated here,\n",
        "    # and you can hard-code any policy that seems to work.\n",
        "    # Hint: think how you would make a swing go farther and faster.\n",
        "    # if np.sin(t/12) < 0:\n",
        "    if velocity > 0:\n",
        "      return actions[\"right\"]\n",
        "    else:\n",
        "      return actions[\"left\"]\n"
      ]
    },
    {
      "cell_type": "code",
      "execution_count": 9,
      "metadata": {
        "colab": {
          "base_uri": "https://localhost:8080/",
          "height": 272
        },
        "id": "EfrOkx798t__",
        "outputId": "44a7af15-b22f-4468-fac4-2c5161d4e586"
      },
      "outputs": [
        {
          "data": {
            "image/png": "[encoded data removed]",
            "text/plain": [
              "<Figure size 400x300 with 1 Axes>"
            ]
          },
          "metadata": {},
          "output_type": "display_data"
        }
      ],
      "source": [
        "plt.figure(figsize=(4, 3))\n",
        "display.clear_output(wait=True)\n",
        "\n",
        "obs, _ = env.reset()\n",
        "for t in range(TIME_LIMIT):\n",
        "    plt.gca().clear()\n",
        "\n",
        "    action = policy(obs, t)  # Call your policy\n",
        "    obs, reward, terminated, truncated, _ = env.step(\n",
        "        action\n",
        "    )  # Pass the action chosen by the policy to the environment\n",
        "\n",
        "    # We don't do anything with reward here because MountainCar is a very simple environment,\n",
        "    # and reward is a constant -1. Therefore, your goal is to end the episode as quickly as possible.\n",
        "\n",
        "    # Draw game image on display.\n",
        "    plt.imshow(env.render())\n",
        "\n",
        "    display.display(plt.gcf())\n",
        "    display.clear_output(wait=True)\n",
        "\n",
        "    if terminated or truncated:\n",
        "        print(\"Well done!\")\n",
        "        break\n",
        "else:\n",
        "    print(\"Time limit exceeded. Try again.\")\n",
        "\n",
        "display.clear_output(wait=True)\n"
      ]
    },
    {
      "cell_type": "code",
      "execution_count": 10,
      "metadata": {
        "colab": {
          "base_uri": "https://localhost:8080/"
        },
        "id": "O7ZeIpJu8t__",
        "outputId": "0d405903-cd56-4f6a-f837-e08d3e4adfcb"
      },
      "outputs": [
        {
          "name": "stdout",
          "output_type": "stream",
          "text": [
            "You solved it!\n"
          ]
        }
      ],
      "source": [
        "assert obs[0] > 0.47\n",
        "print(\"You solved it!\")\n"
      ]
    }
  ],
  "metadata": {
    "colab": {
      "provenance": []
    },
    "kernelspec": {
      "display_name": "Python 3",
      "name": "python3"
    },
    "language_info": {
      "codemirror_mode": {
        "name": "ipython",
        "version": 3
      },
      "file_extension": ".py",
      "mimetype": "text/x-python",
      "name": "python",
      "nbconvert_exporter": "python",
      "pygments_lexer": "ipython3",
      "version": "3.10.12"
    }
  },
  "nbformat": 4,
  "nbformat_minor": 0
}
